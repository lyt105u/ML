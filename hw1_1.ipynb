{
 "cells": [
  {
   "cell_type": "code",
   "execution_count": 22,
   "id": "4b71e6f9",
   "metadata": {},
   "outputs": [
    {
     "name": "stdout",
     "output_type": "stream",
     "text": [
      "1\n",
      "12\n"
     ]
    }
   ],
   "source": [
    "import sys\n",
    "from PIL import Image\n",
    "import numpy as np\n",
    "\n",
    "def doFormula (list, type, testImgResizeNp, k):\n",
    "    for a in range(1, 50):\n",
    "        refImg = Image.open(\"./reference/%ss/%s.%d.jpg\" %(type, type, a))\n",
    "        refImgResize = refImg.resize( (64, 64) )\n",
    "        refImgResizeNp = np.array(refImgResize)\n",
    "\n",
    "        sum = 0\n",
    "        for b in range(0, 64):\n",
    "            for c in range(0, 64):\n",
    "                for d in range(0, 3):\n",
    "                    # sum += abs( refImgResizeNp[b][c][d]-testImgResizeNp[b][c][d] ) / (64*64*3)\n",
    "                    sum += abs( int(refImgResizeNp[b][c][d])-int(testImgResizeNp[b][c][d]) ) / (64*64*3)\n",
    "        list.append(sum)\n",
    "\n",
    "picNo = input(\"請選擇想選擇之圖片編號(1-20): \")\n",
    "if( picNo.isdigit() and int(picNo)<=20 and int(picNo)>=1 ):\n",
    "    print(picNo)\n",
    "else:\n",
    "    sys.exit(\"請輸入1-20之數字\")\n",
    "\n",
    "testImg = Image.open(\"./test/pic%s.jpg\" %(picNo))\n",
    "testImg.show()\n",
    "\n",
    "k = 3\n",
    "\n",
    "testImgResize = testImg.resize( (64, 64) )\n",
    "testImgResizeNp = np.array(testImgResize)\n",
    "\n",
    "list = []\n",
    "doFormula(list, 'cat', testImgResizeNp, k)\n",
    "doFormula(list, 'dog', testImgResizeNp, k)\n",
    "\n",
    "# res含list中前k小元素之index，0~49為貓，50~99為狗\n",
    "res = np.argsort(list)[:k]"
   ]
  }
 ],
 "metadata": {
  "kernelspec": {
   "display_name": "Python 3 (ipykernel)",
   "language": "python",
   "name": "python3"
  },
  "language_info": {
   "codemirror_mode": {
    "name": "ipython",
    "version": 3
   },
   "file_extension": ".py",
   "mimetype": "text/x-python",
   "name": "python",
   "nbconvert_exporter": "python",
   "pygments_lexer": "ipython3",
   "version": "3.11.4"
  }
 },
 "nbformat": 4,
 "nbformat_minor": 5
}
