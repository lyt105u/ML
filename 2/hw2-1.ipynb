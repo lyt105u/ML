{
 "cells": [
  {
   "cell_type": "code",
   "execution_count": null,
   "id": "9562344d",
   "metadata": {},
   "outputs": [],
   "source": [
    "import pandas as pd\n",
    "from sklearn.linear_model import LinearRegression\n",
    "from sklearn.linear_model import Ridge\n",
    "\n",
    "# open HW2_bike-sharing_train.csv\n",
    "trainData = pd.read_csv('HW2_bike-sharing_train.csv')\n",
    "trainData['datetime'] = pd.to_datetime(trainData['datetime'])\n",
    "trainData['hour'] = trainData['datetime'].dt.hour\n",
    "\n",
    "# small x\n",
    "x_train = trainData[['hour', 'season', 'holiday', 'workingday', 'weather', 'temp', 'atemp', 'humidity', 'windspeed']]\n",
    "y_train = trainData['count']\n",
    "\n",
    "# 建立線性回歸模型\n",
    "# model = make_pipeline(StandardScaler(), LinearRegression())\n",
    "\n",
    "# 初始化 Ridge Regression 模型\n",
    "# model = Ridge(alpha=0.5)  # alpha 是正則化參數\n",
    "\n",
    "# train model\n",
    "model = LinearRegression()\n",
    "model.fit(x_train, y_train)\n",
    "\n",
    "# open HW2_bike-sharing_test.csv\n",
    "testData = pd.read_csv('HW2_bike-sharing_test.csv')\n",
    "testData['datetime'] = pd.to_datetime(testData['datetime'])\n",
    "testData['hour'] = testData['datetime'].dt.hour\n",
    "\n",
    "# big X\n",
    "X_test = testData[['hour', 'season', 'holiday', 'workingday', 'weather', 'temp', 'atemp', 'humidity', 'windspeed']]\n",
    "\n",
    "Y_pred = model.predict(X_test)\n",
    "\n",
    "testData['count'] = Y_pred\n",
    "testData[['count']].to_csv('predicted_HW2_bike-sharing_test.csv', index=False)\n",
    "\n",
    "print('predicted_HW2_bike-sharing_test.csv')"
   ]
  }
 ],
 "metadata": {
  "kernelspec": {
   "display_name": "Python 3 (ipykernel)",
   "language": "python",
   "name": "python3"
  },
  "language_info": {
   "codemirror_mode": {
    "name": "ipython",
    "version": 3
   },
   "file_extension": ".py",
   "mimetype": "text/x-python",
   "name": "python",
   "nbconvert_exporter": "python",
   "pygments_lexer": "ipython3",
   "version": "3.11.4"
  }
 },
 "nbformat": 4,
 "nbformat_minor": 5
}
