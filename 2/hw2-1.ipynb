{
 "cells": [
  {
   "cell_type": "code",
   "execution_count": 5,
   "id": "9562344d",
   "metadata": {},
   "outputs": [
    {
     "name": "stdout",
     "output_type": "stream",
     "text": [
      "predicted_HW2_bike-sharing_test.csv\n"
     ]
    }
   ],
   "source": [
    "import pandas as pd\n",
    "from sklearn.linear_model import LinearRegression\n",
    "from sklearn import preprocessing\n",
    "import numpy as np\n",
    "\n",
    "# open HW2_bike-sharing_train.csv\n",
    "trainData = pd.read_csv('HW2_bike-sharing_train.csv')\n",
    "trainData['datetime'] = pd.to_datetime(trainData['datetime'])\n",
    "trainData['hour'] = trainData['datetime'].dt.hour\n",
    "\n",
    "x_train = trainData[['hour', 'season', 'holiday', 'workingday', 'weather', 'temp', 'atemp', 'humidity', 'windspeed']]\n",
    "y_train = trainData['count']\n",
    "\n",
    "# preprocessing\n",
    "scaler = preprocessing.StandardScaler()\n",
    "scaler.fit(x_train)\n",
    "\n",
    "x_train_scaled = scaler.transform(x_train)\n",
    "\n",
    "# train model\n",
    "model = LinearRegression()\n",
    "model.fit(x_train_scaled, y_train)\n",
    "\n",
    "# open HW2_bike-sharing_test.csv\n",
    "testData = pd.read_csv('HW2_bike-sharing_test.csv')\n",
    "testData['datetime'] = pd.to_datetime(testData['datetime'])\n",
    "testData['hour'] = testData['datetime'].dt.hour\n",
    "\n",
    "x_test = testData[['hour', 'season', 'holiday', 'workingday', 'weather', 'temp', 'atemp', 'humidity', 'windspeed']]\n",
    "\n",
    "# preprocessing\n",
    "x_test_scaled = scaler.transform(x_test)\n",
    "\n",
    "# predict\n",
    "y_pred = model.predict(x_test_scaled)\n",
    "# change negative into 0, and change float to int\n",
    "y_pred = np.maximum(y_pred, 0).astype(int)\n",
    "\n",
    "# export results\n",
    "testData['count'] = y_pred\n",
    "testData[['count']].to_csv('predicted_HW2_bike-sharing_test.csv', index=False)\n",
    "\n",
    "print('predicted_HW2_bike-sharing_test.csv')"
   ]
  }
 ],
 "metadata": {
  "kernelspec": {
   "display_name": "Python 3 (ipykernel)",
   "language": "python",
   "name": "python3"
  },
  "language_info": {
   "codemirror_mode": {
    "name": "ipython",
    "version": 3
   },
   "file_extension": ".py",
   "mimetype": "text/x-python",
   "name": "python",
   "nbconvert_exporter": "python",
   "pygments_lexer": "ipython3",
   "version": "3.11.4"
  }
 },
 "nbformat": 4,
 "nbformat_minor": 5
}
