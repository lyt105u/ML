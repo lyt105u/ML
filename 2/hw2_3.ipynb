{
 "cells": [
  {
   "cell_type": "code",
   "execution_count": 1,
   "id": "5be71fb1",
   "metadata": {},
   "outputs": [
    {
     "data": {
      "text/plain": [
       "'HW2_hr-analytics_test_sol.csv'"
      ]
     },
     "execution_count": 1,
     "metadata": {},
     "output_type": "execute_result"
    }
   ],
   "source": [
    "import pandas as pd\n",
    "import numpy as np\n",
    "from sklearn.model_selection import train_test_split, cross_val_score\n",
    "from sklearn.linear_model import LogisticRegression\n",
    "from sklearn.metrics import confusion_matrix\n",
    "from sklearn.preprocessing import LabelEncoder\n",
    "\n",
    "train=pd.read_csv(\"HW2_hr-analytics_train.csv\")\n",
    "train=train.fillna(0)\n",
    "\n",
    "\n",
    "test=pd.read_csv(\"HW2_hr-analytics_test.csv\")\n",
    "\n",
    "X_train = train.drop('left', axis=1)\n",
    "y_train = train['left']\n",
    "\n",
    "\n",
    "train = pd.get_dummies(train, columns=['sales', 'salary'])\n",
    "\n",
    "X_train = train.drop('left', axis=1)\n",
    "y_train = train['left']\n",
    "\n",
    "model = LogisticRegression(max_iter=1000)\n",
    "model.fit(X_train, y_train)\n",
    "\n",
    "test = pd.get_dummies(test, columns=['sales', 'salary'])\n",
    "\n",
    "y_pred = model.predict(test)\n",
    "\n",
    "test['left'] = y_pred\n",
    "df_filepath='HW2_hr-analytics_test_sol.csv'\n",
    "df=pd.DataFrame({'left':test['left']})\n",
    "df.to_csv('HW2_hr-analytics_test_sol.csv', index=False)\n",
    "\n",
    "df_filepath"
   ]
  }
 ],
 "metadata": {
  "kernelspec": {
   "display_name": "Python 3 (ipykernel)",
   "language": "python",
   "name": "python3"
  },
  "language_info": {
   "codemirror_mode": {
    "name": "ipython",
    "version": 3
   },
   "file_extension": ".py",
   "mimetype": "text/x-python",
   "name": "python",
   "nbconvert_exporter": "python",
   "pygments_lexer": "ipython3",
   "version": "3.11.4"
  }
 },
 "nbformat": 4,
 "nbformat_minor": 5
}
