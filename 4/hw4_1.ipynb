{
 "cells": [
  {
   "cell_type": "code",
   "execution_count": 10,
   "id": "3f6b0529",
   "metadata": {},
   "outputs": [
    {
     "name": "stdout",
     "output_type": "stream",
     "text": [
      "最小值 (使用 optimizer): 0.17712217569351196\n",
      "最小值 (使用遞迴): 0.1771222224539274\n"
     ]
    }
   ],
   "source": [
    "import torch\n",
    "from torch import nn\n",
    "from torch.optim import SGD\n",
    "\n",
    "def f(x, a4, a3, a2, a1, a0):\n",
    "    return a4 * x**4 + a3 * x**3 + a2 * x**2 + a1 * x + a0\n",
    "\n",
    "def loss(x, a4, a3, a2, a1, a0):\n",
    "    return f(x, a4, a3, a2, a1, a0)\n",
    "\n",
    "def find_min_with_optimizer(a4, a3, a2, a1, a0):\n",
    "    x = torch.tensor(0.0, requires_grad=True)\n",
    "    optimizer = SGD([x], lr=0.01)\n",
    "\n",
    "    for _ in range(1000):\n",
    "        current_loss = loss(x, a4, a3, a2, a1, a0)\n",
    "        optimizer.zero_grad()\n",
    "        current_loss.backward()\n",
    "        optimizer.step()\n",
    "\n",
    "    return x.item()\n",
    "\n",
    "# 使用遞迴方式找出最小值\n",
    "def find_min_recursive(a4, a3, a2, a1, a0, x_guess=0.0, epsilon=1e-6, max_iters=1000):\n",
    "    for _ in range(max_iters):\n",
    "        grad = 4 * a4 * x_guess**3 + 3 * a3 * x_guess**2 + 2 * a2 * x_guess + a1\n",
    "        x_guess = x_guess - 0.01 * grad\n",
    "\n",
    "        # 檢查梯度是否足夠接近零，表示找到了極小值\n",
    "        if abs(grad) < epsilon:\n",
    "            break\n",
    "\n",
    "    return x_guess\n",
    "\n",
    "# 測試\n",
    "a4, a3, a2, a1, a0 = 10.0, -62.0, 90.5, 18.0, 992.0\n",
    "x_min_optimizer = find_min_with_optimizer(a4, a3, a2, a1, a0)\n",
    "x_min_recursive = find_min_recursive(a4, a3, a2, a1, a0)\n",
    "\n",
    "print(\"最小值 (使用 optimizer):\", x_min_optimizer)\n",
    "print(\"最小值 (使用遞迴):\", x_min_recursive)"
   ]
  }
 ],
 "metadata": {
  "kernelspec": {
   "display_name": "Python 3 (ipykernel)",
   "language": "python",
   "name": "python3"
  },
  "language_info": {
   "codemirror_mode": {
    "name": "ipython",
    "version": 3
   },
   "file_extension": ".py",
   "mimetype": "text/x-python",
   "name": "python",
   "nbconvert_exporter": "python",
   "pygments_lexer": "ipython3",
   "version": "3.11.4"
  }
 },
 "nbformat": 4,
 "nbformat_minor": 5
}
