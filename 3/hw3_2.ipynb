{
 "cells": [
  {
   "cell_type": "markdown",
   "id": "87f9001b",
   "metadata": {},
   "source": [
    "Decision tree"
   ]
  },
  {
   "cell_type": "code",
   "execution_count": null,
   "id": "514e36f1",
   "metadata": {},
   "outputs": [],
   "source": [
    "import pandas as pd\n",
    "from sklearn.model_selection import train_test_split\n",
    "from sklearn.tree import DecisionTreeClassifier\n",
    "from sklearn.metrics import accuracy_score, classification_report, roc_auc_score\n",
    "\n",
    "data = pd.read_csv('HW3_creditcard.csv')\n",
    "\n",
    "# y: \"Class\" column, X: other columns \n",
    "X = data.drop('Class', axis=1)\n",
    "y = data['Class']\n",
    "\n",
    "# split dataset: train 70%, test 30%\n",
    "X_train, X_test, y_train, y_test = train_test_split(X, y, test_size=0.3, random_state=42)\n",
    "\n",
    "model = DecisionTreeClassifier(class_weight={0: 0.1, 1: 0.9})   # add weight\n",
    "model.fit(X_train, y_train)\n",
    "y_pred = model.predict(X_test)\n",
    "\n",
    "# accuracy\n",
    "accuracy = accuracy_score(y_test, y_pred)\n",
    "print(\"accuracy: \", accuracy)\n",
    "\n",
    "# recall, precisioin, and F1-score\n",
    "print(classification_report(y_test, y_pred))\n",
    "\n",
    "# AUROC\n",
    "y_pred_proba = model.predict_proba(X_test)[:, 1]  # 預測每個類別的概率，這裡選擇了類別1的概率\n",
    "auroc = roc_auc_score(y_test, y_pred_proba)\n",
    "print(\"AUROC: \", auroc)\n",
    "\n",
    "# class count\n",
    "print(\"預測為 Class=0 的數量：\", len(y_pred[y_pred==0]))\n",
    "print(\"預測為 Class=1 的數量：\", len(y_pred[y_pred==1]))"
   ]
  },
  {
   "cell_type": "markdown",
   "id": "4d25465c",
   "metadata": {},
   "source": [
    "SMOTE"
   ]
  },
  {
   "cell_type": "code",
   "execution_count": null,
   "id": "fabe4fb6",
   "metadata": {},
   "outputs": [],
   "source": [
    "import pandas as pd\n",
    "from sklearn.model_selection import train_test_split\n",
    "from sklearn.tree import DecisionTreeClassifier\n",
    "from sklearn.metrics import accuracy_score, classification_report, roc_auc_score\n",
    "from imblearn.over_sampling import SMOTE\n",
    "# Anaconda Prompt：\n",
    "# conda update scikit-learn\n",
    "# pip install -U imbalanced-learn\n",
    "\n",
    "data = pd.read_csv('HW3_creditcard.csv')\n",
    "\n",
    "# y: \"Class\" column, X: other columns \n",
    "X = data.drop('Class', axis=1)\n",
    "y = data['Class']\n",
    "\n",
    "# split dataset: train 70%, test 30%\n",
    "X_train, X_test, y_train, y_test = train_test_split(X, y, test_size=0.3, random_state=0)\n",
    "\n",
    "# SMOTE\n",
    "sm = SMOTE(random_state=42)\n",
    "X_res, y_res = sm.fit_resample(X_train, y_train)\n",
    "\n",
    "# add weight, and train\n",
    "model = DecisionTreeClassifier(random_state=0)\n",
    "model.fit(X_train, y_train)\n",
    "y_pred = model.predict(X_test)\n",
    "\n",
    "# accuracy\n",
    "accuracy = accuracy_score(y_test, y_pred)\n",
    "print(\"accuracy: \", accuracy)\n",
    "\n",
    "# recall, precisioin, and F1-score\n",
    "print(classification_report(y_test, y_pred))\n",
    "\n",
    "# AUROC\n",
    "y_pred_proba = model.predict_proba(X_test)[:, 1]  # 預測每個類別的概率，這裡選擇了類別1的概率\n",
    "auroc = roc_auc_score(y_test, y_pred_proba)\n",
    "print(\"AUROC: \", auroc)\n",
    "\n",
    "# class count\n",
    "print(\"預測為 Class=0 的數量：\", len(y_pred[y_pred==0]))\n",
    "print(\"預測為 Class=1 的數量：\", len(y_pred[y_pred==1]))"
   ]
  },
  {
   "cell_type": "markdown",
   "metadata": {},
   "source": [
    "XGBoost"
   ]
  },
  {
   "cell_type": "code",
   "execution_count": null,
   "metadata": {},
   "outputs": [],
   "source": [
    "import pandas as pd\n",
    "from sklearn.model_selection import train_test_split\n",
    "from sklearn.metrics import accuracy_score, classification_report, roc_auc_score\n",
    "import xgboost as xgb\n",
    "# Anaconda Prompt：\n",
    "# pip install numpy pandas xgboost scikit-learn\n",
    "\n",
    "data = pd.read_csv('HW3_creditcard.csv')\n",
    "\n",
    "# y: \"Class\" column, X: other columns \n",
    "X = data.drop('Class', axis=1)\n",
    "y = data['Class']\n",
    "\n",
    "# split dataset: train 70%, test 30%\n",
    "X_train, X_test, y_train, y_test = train_test_split(X, y, test_size=0.3, random_state=42)\n",
    "\n",
    "# XGBoost\n",
    "model = xgb.XGBClassifier()\n",
    "model.fit(X_train, y_train)\n",
    "y_pred = model.predict(X_test)\n",
    "\n",
    "# accuracy\n",
    "accuracy = accuracy_score(y_test, y_pred)\n",
    "print(\"accuracy: \", accuracy)\n",
    "\n",
    "# recall, precisioin, and F1-score\n",
    "print(classification_report(y_test, y_pred))\n",
    "\n",
    "# AUROC\n",
    "y_pred_proba = model.predict_proba(X_test)[:, 1]  # 預測每個類別的概率，這裡選擇了類別1的概率\n",
    "auroc = roc_auc_score(y_test, y_pred_proba)\n",
    "print(\"AUROC: \", auroc)\n",
    "\n",
    "# 統計預測的Class數量\n",
    "print(\"預測為 Class=0 的數量：\", len(y_pred[y_pred==0]))\n",
    "print(\"預測為 Class=1 的數量：\", len(y_pred[y_pred==1]))"
   ]
  }
 ],
 "metadata": {
  "kernelspec": {
   "display_name": "Python 3 (ipykernel)",
   "language": "python",
   "name": "python3"
  },
  "language_info": {
   "codemirror_mode": {
    "name": "ipython",
    "version": 3
   },
   "file_extension": ".py",
   "mimetype": "text/x-python",
   "name": "python",
   "nbconvert_exporter": "python",
   "pygments_lexer": "ipython3",
   "version": "3.11.4"
  }
 },
 "nbformat": 4,
 "nbformat_minor": 5
}
