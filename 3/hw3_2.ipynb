{
 "cells": [
  {
   "cell_type": "markdown",
   "id": "87f9001b",
   "metadata": {},
   "source": [
    "Decision tree"
   ]
  },
  {
   "cell_type": "code",
   "execution_count": 14,
   "metadata": {},
   "outputs": [
    {
     "name": "stdout",
     "output_type": "stream",
     "text": [
      "accuracy:  0.994007835906891\n",
      "              precision    recall  f1-score   support\n",
      "\n",
      "           0       1.00      1.00      1.00      8523\n",
      "           1       0.83      0.83      0.83       155\n",
      "\n",
      "    accuracy                           0.99      8678\n",
      "   macro avg       0.91      0.91      0.91      8678\n",
      "weighted avg       0.99      0.99      0.99      8678\n",
      "\n",
      "AUROC:  0.9146037477338359\n",
      "預測為 Class=0 的數量： 8523\n",
      "預測為 Class=1 的數量： 155\n"
     ]
    }
   ],
   "source": [
    "import pandas as pd\n",
    "from sklearn.model_selection import train_test_split\n",
    "from sklearn.tree import DecisionTreeClassifier\n",
    "from sklearn.metrics import accuracy_score, classification_report, roc_auc_score\n",
    "\n",
    "data = pd.read_csv('HW3_creditcard.csv')\n",
    "\n",
    "# y: \"Class\" column, X: other columns \n",
    "X = data.drop('Class', axis=1)\n",
    "y = data['Class']\n",
    "\n",
    "# split dataset: train 70%, test 30%\n",
    "X_train, X_test, y_train, y_test = train_test_split(X, y, test_size=0.3, random_state=42)\n",
    "\n",
    "model = DecisionTreeClassifier()\n",
    "model.fit(X_train, y_train)\n",
    "y_pred = model.predict(X_test)\n",
    "\n",
    "# accuracy\n",
    "accuracy = accuracy_score(y_test, y_pred)\n",
    "print(\"accuracy: \", accuracy)\n",
    "\n",
    "# recall, precisioin, and F1-score\n",
    "print(classification_report(y_test, y_pred))\n",
    "\n",
    "# AUROC\n",
    "y_pred_proba = model.predict_proba(X_test)[:, 1]  # 預測每個類別的概率，這裡選擇了類別1的概率\n",
    "auroc = roc_auc_score(y_test, y_pred_proba)\n",
    "print(\"AUROC: \", auroc)\n",
    "\n",
    "# class count\n",
    "print(\"預測為 Class=0 的數量：\", len(y_pred[y_pred==0]))\n",
    "print(\"預測為 Class=1 的數量：\", len(y_pred[y_pred==1]))"
   ]
  },
  {
   "cell_type": "markdown",
   "metadata": {},
   "source": [
    "Decision tree with weight"
   ]
  },
  {
   "cell_type": "code",
   "execution_count": 15,
   "id": "514e36f1",
   "metadata": {},
   "outputs": [
    {
     "name": "stdout",
     "output_type": "stream",
     "text": [
      "accuracy:  0.9946992394560958\n",
      "              precision    recall  f1-score   support\n",
      "\n",
      "           0       1.00      1.00      1.00      8523\n",
      "           1       0.86      0.85      0.85       155\n",
      "\n",
      "    accuracy                           0.99      8678\n",
      "   macro avg       0.93      0.92      0.92      8678\n",
      "weighted avg       0.99      0.99      0.99      8678\n",
      "\n",
      "AUROC:  0.9212900197946354\n",
      "預測為 Class=0 的數量： 8525\n",
      "預測為 Class=1 的數量： 153\n"
     ]
    }
   ],
   "source": [
    "import pandas as pd\n",
    "from sklearn.model_selection import train_test_split\n",
    "from sklearn.tree import DecisionTreeClassifier\n",
    "from sklearn.metrics import accuracy_score, classification_report, roc_auc_score\n",
    "\n",
    "data = pd.read_csv('HW3_creditcard.csv')\n",
    "\n",
    "# y: \"Class\" column, X: other columns \n",
    "X = data.drop('Class', axis=1)\n",
    "y = data['Class']\n",
    "\n",
    "# split dataset: train 70%, test 30%\n",
    "X_train, X_test, y_train, y_test = train_test_split(X, y, test_size=0.3, random_state=42)\n",
    "\n",
    "model = DecisionTreeClassifier(class_weight={0: 0.1, 1: 0.9})   # add weight\n",
    "model.fit(X_train, y_train)\n",
    "y_pred = model.predict(X_test)\n",
    "\n",
    "# accuracy\n",
    "accuracy = accuracy_score(y_test, y_pred)\n",
    "print(\"accuracy: \", accuracy)\n",
    "\n",
    "# recall, precisioin, and F1-score\n",
    "print(classification_report(y_test, y_pred))\n",
    "\n",
    "# AUROC\n",
    "y_pred_proba = model.predict_proba(X_test)[:, 1]  # 預測每個類別的概率，這裡選擇了類別1的概率\n",
    "auroc = roc_auc_score(y_test, y_pred_proba)\n",
    "print(\"AUROC: \", auroc)\n",
    "\n",
    "# class count\n",
    "print(\"預測為 Class=0 的數量：\", len(y_pred[y_pred==0]))\n",
    "print(\"預測為 Class=1 的數量：\", len(y_pred[y_pred==1]))"
   ]
  },
  {
   "cell_type": "markdown",
   "id": "4d25465c",
   "metadata": {},
   "source": [
    "Decision tree with SMOTE"
   ]
  },
  {
   "cell_type": "code",
   "execution_count": 16,
   "id": "fabe4fb6",
   "metadata": {},
   "outputs": [
    {
     "name": "stdout",
     "output_type": "stream",
     "text": [
      "accuracy:  0.9943535376814935\n",
      "              precision    recall  f1-score   support\n",
      "\n",
      "           0       1.00      1.00      1.00      8551\n",
      "           1       0.80      0.81      0.81       127\n",
      "\n",
      "    accuracy                           0.99      8678\n",
      "   macro avg       0.90      0.90      0.90      8678\n",
      "weighted avg       0.99      0.99      0.99      8678\n",
      "\n",
      "AUROC:  0.9040499936923158\n",
      "預測為 Class=0 的數量： 8550\n",
      "預測為 Class=1 的數量： 128\n"
     ]
    }
   ],
   "source": [
    "import pandas as pd\n",
    "from sklearn.model_selection import train_test_split\n",
    "from sklearn.tree import DecisionTreeClassifier\n",
    "from sklearn.metrics import accuracy_score, classification_report, roc_auc_score\n",
    "from imblearn.over_sampling import SMOTE\n",
    "# Anaconda Prompt：\n",
    "# conda update scikit-learn\n",
    "# pip install -U imbalanced-learn\n",
    "\n",
    "data = pd.read_csv('HW3_creditcard.csv')\n",
    "\n",
    "# y: \"Class\" column, X: other columns \n",
    "X = data.drop('Class', axis=1)\n",
    "y = data['Class']\n",
    "\n",
    "# split dataset: train 70%, test 30%\n",
    "X_train, X_test, y_train, y_test = train_test_split(X, y, test_size=0.3, random_state=0)\n",
    "\n",
    "# SMOTE\n",
    "sm = SMOTE(random_state=42)\n",
    "X_res, y_res = sm.fit_resample(X_train, y_train)\n",
    "\n",
    "# add weight, and train\n",
    "model = DecisionTreeClassifier(random_state=0)\n",
    "model.fit(X_train, y_train)\n",
    "y_pred = model.predict(X_test)\n",
    "\n",
    "# accuracy\n",
    "accuracy = accuracy_score(y_test, y_pred)\n",
    "print(\"accuracy: \", accuracy)\n",
    "\n",
    "# recall, precisioin, and F1-score\n",
    "print(classification_report(y_test, y_pred))\n",
    "\n",
    "# AUROC\n",
    "y_pred_proba = model.predict_proba(X_test)[:, 1]  # 預測每個類別的概率，這裡選擇了類別1的概率\n",
    "auroc = roc_auc_score(y_test, y_pred_proba)\n",
    "print(\"AUROC: \", auroc)\n",
    "\n",
    "# class count\n",
    "print(\"預測為 Class=0 的數量：\", len(y_pred[y_pred==0]))\n",
    "print(\"預測為 Class=1 的數量：\", len(y_pred[y_pred==1]))"
   ]
  },
  {
   "cell_type": "markdown",
   "metadata": {},
   "source": [
    "XGBoost"
   ]
  },
  {
   "cell_type": "code",
   "execution_count": 17,
   "metadata": {},
   "outputs": [
    {
     "name": "stdout",
     "output_type": "stream",
     "text": [
      "accuracy:  0.9974648536529154\n",
      "              precision    recall  f1-score   support\n",
      "\n",
      "           0       1.00      1.00      1.00      8523\n",
      "           1       0.99      0.86      0.92       155\n",
      "\n",
      "    accuracy                           1.00      8678\n",
      "   macro avg       1.00      0.93      0.96      8678\n",
      "weighted avg       1.00      1.00      1.00      8678\n",
      "\n",
      "AUROC:  0.9782841873791221\n",
      "預測為 Class=0 的數量： 8543\n",
      "預測為 Class=1 的數量： 135\n"
     ]
    }
   ],
   "source": [
    "import pandas as pd\n",
    "from sklearn.model_selection import train_test_split\n",
    "from sklearn.metrics import accuracy_score, classification_report, roc_auc_score\n",
    "import xgboost as xgb\n",
    "# Anaconda Prompt：\n",
    "# pip install numpy pandas xgboost scikit-learn\n",
    "\n",
    "data = pd.read_csv('HW3_creditcard.csv')\n",
    "\n",
    "# y: \"Class\" column, X: other columns \n",
    "X = data.drop('Class', axis=1)\n",
    "y = data['Class']\n",
    "\n",
    "# split dataset: train 70%, test 30%\n",
    "X_train, X_test, y_train, y_test = train_test_split(X, y, test_size=0.3, random_state=42)\n",
    "\n",
    "# XGBoost\n",
    "model = xgb.XGBClassifier()\n",
    "model.fit(X_train, y_train)\n",
    "y_pred = model.predict(X_test)\n",
    "\n",
    "# accuracy\n",
    "accuracy = accuracy_score(y_test, y_pred)\n",
    "print(\"accuracy: \", accuracy)\n",
    "\n",
    "# recall, precisioin, and F1-score\n",
    "print(classification_report(y_test, y_pred))\n",
    "\n",
    "# AUROC\n",
    "y_pred_proba = model.predict_proba(X_test)[:, 1]  # 預測每個類別的概率，這裡選擇了類別1的概率\n",
    "auroc = roc_auc_score(y_test, y_pred_proba)\n",
    "print(\"AUROC: \", auroc)\n",
    "\n",
    "# 統計預測的Class數量\n",
    "print(\"預測為 Class=0 的數量：\", len(y_pred[y_pred==0]))\n",
    "print(\"預測為 Class=1 的數量：\", len(y_pred[y_pred==1]))"
   ]
  },
  {
   "cell_type": "markdown",
   "metadata": {},
   "source": [
    "討論：\n",
    "Decision tree若不使用權重，模型可能會偏向於預測數量較多類別，而忽略了少數類別，所以使用適當權重可改善預測結果。\n",
    "SMOTE會自動生成新的合成樣本，以平衡數據集並改善模型對少數類別的學習能力，從而提高模型的整體性能。"
   ]
  }
 ],
 "metadata": {
  "kernelspec": {
   "display_name": "Python 3 (ipykernel)",
   "language": "python",
   "name": "python3"
  },
  "language_info": {
   "codemirror_mode": {
    "name": "ipython",
    "version": 3
   },
   "file_extension": ".py",
   "mimetype": "text/x-python",
   "name": "python",
   "nbconvert_exporter": "python",
   "pygments_lexer": "ipython3",
   "version": "3.11.5"
  }
 },
 "nbformat": 4,
 "nbformat_minor": 5
}
