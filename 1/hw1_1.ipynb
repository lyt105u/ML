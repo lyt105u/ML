{
 "cells": [
  {
   "cell_type": "code",
   "execution_count": null,
   "id": "4b71e6f9",
   "metadata": {},
   "outputs": [],
   "source": [
    "import sys\n",
    "from PIL import Image\n",
    "import numpy as np\n",
    "\n",
    "# fromula function\n",
    "def doFormula(list, type, testImgResizeNp):\n",
    "    for a in range(1, 50):\n",
    "        # resize\n",
    "        refImg = Image.open(\"./reference/%ss/%s.%d.jpg\" %(type, type, a))\n",
    "        refImgResize = refImg.resize( (64, 64) )\n",
    "        refImgResizeNp = np.array(refImgResize)\n",
    "\n",
    "        # caculate\n",
    "        sum = 0\n",
    "        for b in range(0, 64):\n",
    "            for c in range(0, 64):\n",
    "                for d in range(0, 3):\n",
    "                    # sum += abs( refImgResizeNp[b][c][d]-testImgResizeNp[b][c][d] ) / (64*64*3)\n",
    "                    sum += abs( int(refImgResizeNp[b][c][d])-int(testImgResizeNp[b][c][d]) ) / (64*64*3)\n",
    "        list.append(sum)\n",
    "\n",
    "# input\n",
    "picNo = input(\"請選擇想選擇之圖片編號(1-20): \")\n",
    "while True:\n",
    "    if( picNo.isdigit() and int(picNo)<=20 and int(picNo)>=1 ):\n",
    "        break\n",
    "    else:\n",
    "        picNo = input(\"錯誤！請重新輸入1-20的數字: \")\n",
    "\n",
    "# show image\n",
    "testImg = Image.open(\"./test/pic%s.jpg\" %(picNo))\n",
    "testImg.show()\n",
    "\n",
    "# resize\n",
    "testImgResize = testImg.resize( (64, 64) )\n",
    "testImgResizeNp = np.array(testImgResize)\n",
    "\n",
    "# index 0~49: cat\n",
    "# index 50~99: dog\n",
    "list = []\n",
    "doFormula(list, 'cat', testImgResizeNp)\n",
    "doFormula(list, 'dog', testImgResizeNp)\n",
    "\n",
    "# res contains top K smallest values' index\n",
    "K = 3\n",
    "res = np.argsort(list)[:K]\n",
    "\n",
    "# determine result\n",
    "catCnt = 0\n",
    "for i in res:\n",
    "    if i < 50:\n",
    "        catCnt += 1\n",
    "result = \"貓\" if (catCnt>K/2) else \"狗\"\n",
    "print(\"結果: %s\" %(result))"
   ]
  },
  {
   "cell_type": "markdown",
   "id": "8c4ee2c2",
   "metadata": {},
   "source": [
    "K大小和準確率大約成正比。\n",
    "reference圖片數量需提高，才能提升準確度。"
   ]
  }
 ],
 "metadata": {
  "kernelspec": {
   "display_name": "Python 3 (ipykernel)",
   "language": "python",
   "name": "python3"
  },
  "language_info": {
   "codemirror_mode": {
    "name": "ipython",
    "version": 3
   },
   "file_extension": ".py",
   "mimetype": "text/x-python",
   "name": "python",
   "nbconvert_exporter": "python",
   "pygments_lexer": "ipython3",
   "version": "3.11.4"
  }
 },
 "nbformat": 4,
 "nbformat_minor": 5
}
